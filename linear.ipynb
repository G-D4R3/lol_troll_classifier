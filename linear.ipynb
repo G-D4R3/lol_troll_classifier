{
 "cells": [
  {
   "cell_type": "code",
   "execution_count": 1,
   "metadata": {},
   "outputs": [],
   "source": [
    "import numpy as np\n",
    "import matplotlib.pylab as plt\n",
    "import pandas as pd\n",
    "from sklearn.preprocessing import RobustScaler\n",
    "from sklearn.model_selection import train_test_split\n",
    "from sklearn.preprocessing import StandardScaler\n",
    "import requsets\n",
    "import sys\n",
    "import time\n",
    "import json\n",
    "from urllib import parse\n",
    "import re"
   ]
  },
  {
   "cell_type": "code",
   "execution_count": null,
   "metadata": {},
   "outputs": [],
   "source": []
  },
  {
   "cell_type": "code",
   "execution_count": 224,
   "metadata": {},
   "outputs": [],
   "source": [
    "df  = pd.read_csv('./result1311_eda.csv', encoding='CP949')\n",
    "del df['Unnamed: 0']\n",
    "y = df[['class']]\n",
    "x = df[['dup_item','kda', 'game_participation', 'gold_spent_ratio','death_ratio']]\n",
    "#x = df[['dup_item', 'kda', 'gold_spent_ratio']]\n",
    "\n",
    "def f_importances(coef, names, top=-1):\n",
    "    imp = coef\n",
    "    imp, names = zip(*sorted(list(zip(imp, names))))\n",
    "\n",
    "    # Show all features\n",
    "    if top == -1:\n",
    "        top = len(names)\n",
    "\n",
    "    plt.barh(range(top), imp[::-1][0:top], align='center')\n",
    "    plt.yticks(range(top), names[::-1][0:top])\n",
    "    plt.show()"
   ]
  },
  {
   "cell_type": "code",
   "execution_count": null,
   "metadata": {},
   "outputs": [],
   "source": [
    "name = input('소환사명: ')\n",
    "getid = 'https://kr.api.riotgames.com/lol/summoner/v4/summoners/by-name/'+name\n",
    "r = requests.get(getid, params)\n",
    "a_id = r.json()['accountId']\n"
   ]
  },
  {
   "cell_type": "code",
   "execution_count": 270,
   "metadata": {},
   "outputs": [
    {
     "name": "stdout",
     "output_type": "stream",
     "text": [
      "       dup_item       kda  game_participation  gold_spent_ratio  death_ratio\n",
      "23439         0  0.833333            0.562771          0.058961     0.384615\n",
      "11195         0  0.000000            0.248963          0.630291     0.666667\n",
      "40434         0  1.142857            0.488202          0.073443     0.600000\n",
      "33275         0  2.000000            0.476443          0.035497     0.400000\n",
      "13539         0  1.555556            0.399408          0.127032     0.888889\n",
      "29054         0  1.400000            0.445104          0.020744     0.600000\n",
      "27119         0  0.636364            0.427632          0.021789     0.769231\n",
      "16030         0  1.000000            0.448718          0.078447     0.428571\n",
      "2003          0  3.500000            0.466408          0.033065     0.214286\n",
      "23129         0  0.833333            0.540947          0.088977     0.416667\n",
      "38413         0  0.785714            0.408348          0.098485     0.866667\n",
      "36735         0  2.571429            0.510783          0.151595     0.400000\n",
      "36891         0  2.000000            0.458599          0.057026     0.416667\n",
      "1057          1  0.857143            0.554273          0.106163     0.500000\n",
      "39504         0  1.333333            0.397959          0.155733     0.615385\n",
      "19182         0  0.125000            0.504732          0.171231     0.875000\n",
      "26150         0  3.666667            0.701439          0.078127     0.153846\n",
      "8213          0  1.571429            0.466926          0.046993     0.428571\n",
      "23505         0  0.833333            0.493827          0.114144     0.500000\n",
      "40780         0  1.800000            0.500347          0.043881     0.333333\n",
      "15502         0  3.500000            0.551020          0.126796     0.277778\n",
      "6542          0  1.454545            0.435008          0.038062     0.714286\n",
      "25966         1  1.400000            0.469361          0.038360     0.750000\n",
      "36050         0  3.400000            0.433317          0.209189     0.266667\n",
      "21486         0  2.090909            0.411664          0.061618     0.625000\n",
      "12323         0  1.500000            0.518519          0.148412     0.500000\n",
      "22062         0  2.454545            0.459990          0.090064     0.625000\n",
      "33830         0  0.833333            0.391304          0.127454     0.833333\n",
      "39946         1  1.222222            0.472707          0.129084     0.571429\n",
      "4665          0  1.454545            0.474777          0.109448     0.625000\n"
     ]
    }
   ],
   "source": [
    "x_train, x_test, y_train_, y_test_ = train_test_split(x, y, \n",
    "                                                    test_size = 0.1,\n",
    "                                                   shuffle = True)\n",
    "\n",
    "pre ={'dup_item' :0 ,'kda' :0 ,'game_participation': 0.187793427,'gold_spent_ratio' : 0.723604201, 'death_ratio': 0.5}\n",
    "p_d = pd.DataFrame.from_dict([pre])\n",
    "x_train = pd.concat([x_train, p_d])\n",
    "x_dup = pd.DataFrame(x_train['dup_item'])\n",
    "x_dup[:] = StandardScaler().fit_transform(x_dup[:])\n",
    "x_train['dup_item'] = x_dup\n",
    "pre = x_train[-1:]\n",
    "x_train = x_train[:-1]\n",
    "\n",
    "\n",
    "\n"
   ]
  },
  {
   "cell_type": "code",
   "execution_count": 271,
   "metadata": {},
   "outputs": [
    {
     "name": "stdout",
     "output_type": "stream",
     "text": [
      "predict :  [1]\n",
      "acc 0.9925066473289823\n"
     ]
    },
    {
     "data": {
      "image/png": "[encoded data removed]",
      "text/plain": [
       "<Figure size 432x288 with 1 Axes>"
      ]
     },
     "metadata": {
      "needs_background": "light"
     },
     "output_type": "display_data"
    }
   ],
   "source": [
    "from sklearn import svm\n",
    "\n",
    "svm = svm.SVC(kernel='linear')\n",
    "svm.fit(x_train, np.ravel(y_train_,order='C'))\n",
    "#rint ('x: ', x_test)\n",
    "print (\"predict : \",svm.predict(p_d))\n",
    "#rint ('y: ',y_test_)\n",
    "features_names = [ 'dup_item','kda', 'game_participation', 'gold_spent_ratio','death_ratio']\n",
    "pd.Series(abs(svm.coef_[0]), index=features_names).nlargest(10).plot(kind='barh')\n",
    "#f_importances(svm.coef_, features_names, top=10)\n",
    "print (\"acc\", svm.score(x_test, y_test_))"
   ]
  },
  {
   "cell_type": "code",
   "execution_count": 272,
   "metadata": {},
   "outputs": [
    {
     "name": "stdout",
     "output_type": "stream",
     "text": [
      "predict :  [0]\n",
      "acc :  0.9966159052453468\n"
     ]
    }
   ],
   "source": [
    "from sklearn.tree import DecisionTreeClassifier\n",
    "\n",
    "dt = DecisionTreeClassifier()\n",
    "dt.fit(x_train, np.ravel(y_train_,order='C'))\n",
    "print (\"predict : \",dt.predict(p_d))\n",
    "print ('acc : ', dt.score(x_test, y_test_))"
   ]
  },
  {
   "cell_type": "code",
   "execution_count": null,
   "metadata": {},
   "outputs": [],
   "source": []
  },
  {
   "cell_type": "code",
   "execution_count": null,
   "metadata": {},
   "outputs": [],
   "source": []
  }
 ],
 "metadata": {
  "kernelspec": {
   "display_name": "Python 3",
   "language": "python",
   "name": "python3"
  },
  "language_info": {
   "codemirror_mode": {
    "name": "ipython",
    "version": 3
   },
   "file_extension": ".py",
   "mimetype": "text/x-python",
   "name": "python",
   "nbconvert_exporter": "python",
   "pygments_lexer": "ipython3",
   "version": "3.8.5"
  }
 },
 "nbformat": 4,
 "nbformat_minor": 4
}
